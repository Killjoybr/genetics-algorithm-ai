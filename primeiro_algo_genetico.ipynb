{
 "cells": [
  {
   "cell_type": "code",
   "execution_count": 17,
   "id": "05a00036-2bac-4c80-9f03-9b4e020ef3b9",
   "metadata": {},
   "outputs": [],
   "source": [
    "import string\n",
    "import random\n",
    "import numpy as np\n",
    "\n",
    "objetivo = \"Teste\";\n",
    "populacao = 100;\n",
    "ocorrencia_mutacao = 1;\n",
    "genes = list(string.ascii_uppercase);"
   ]
  },
  {
   "cell_type": "code",
   "execution_count": 18,
   "id": "aa4fb66e-15cc-4eaa-8786-d2b03e614652",
   "metadata": {},
   "outputs": [],
   "source": [
    "def gera_cromossomo():\n",
    "    max_caracteres = len(objetivo)\n",
    "    n_genes = len(genes) - 1\n",
    "    \n",
    "    cromossomo = ''\n",
    "    \n",
    "    while len(cromossomo) < max_caracteres:\n",
    "        cromossomo += genes[random.randint(0, n_genes)]\n",
    "    return cromossomo"
   ]
  },
  {
   "cell_type": "code",
   "execution_count": 30,
   "id": "c8c9c7b4-f92e-4735-9c88-af2c08471a1a",
   "metadata": {},
   "outputs": [],
   "source": [
    "def compara_cromossomo(cromossomo):\n",
    "    arr_obj = list(objetivo)\n",
    "    contador = 0\n",
    "    pontos = 0\n",
    "    \n",
    "    for letra in cromossomo:\n",
    "        if(letra == arr_obj[contador]):\n",
    "            pontos+=1\n",
    "        contador+=1\n",
    "    return pontos"
   ]
  },
  {
   "cell_type": "code",
   "execution_count": 31,
   "id": "07134ce9-8cab-4488-8c04-8b262c1c0844",
   "metadata": {},
   "outputs": [
    {
     "name": "stdout",
     "output_type": "stream",
     "text": [
      "Palavra gerada: UKHRD\n",
      "Pontos do cromossomo: 0\n"
     ]
    }
   ],
   "source": [
    "cromossomo = gera_cromossomo()\n",
    "\n",
    "print(f'Palavra gerada: {cromossomo}')\n",
    "\n",
    "pontos = compara_cromossomo(cromossomo)\n",
    "\n",
    "print(f'Pontos do cromossomo: {pontos}')"
   ]
  },
  {
   "cell_type": "code",
   "execution_count": null,
   "id": "59d2ac83-2261-4000-867e-40d69ddb9cbb",
   "metadata": {},
   "outputs": [],
   "source": []
  }
 ],
 "metadata": {
  "kernelspec": {
   "display_name": "Python 3 (ipykernel)",
   "language": "python",
   "name": "python3"
  },
  "language_info": {
   "codemirror_mode": {
    "name": "ipython",
    "version": 3
   },
   "file_extension": ".py",
   "mimetype": "text/x-python",
   "name": "python",
   "nbconvert_exporter": "python",
   "pygments_lexer": "ipython3",
   "version": "3.13.2"
  }
 },
 "nbformat": 4,
 "nbformat_minor": 5
}
